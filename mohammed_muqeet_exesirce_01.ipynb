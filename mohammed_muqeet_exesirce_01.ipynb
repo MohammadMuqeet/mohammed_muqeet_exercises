{
  "cells": [
    {
      "cell_type": "markdown",
      "metadata": {
        "id": "view-in-github",
        "colab_type": "text"
      },
      "source": [
        "<a href=\"https://colab.research.google.com/github/MohammadMuqeet/mohammed_muqeet_exesirce_01/blob/main/mohammed_muqeet_exesirce_01.ipynb\" target=\"_parent\"><img src=\"https://colab.research.google.com/assets/colab-badge.svg\" alt=\"Open In Colab\"/></a>"
      ]
    },
    {
      "cell_type": "markdown",
      "metadata": {
        "id": "DymRJbxDBCnf"
      },
      "source": [
        "# **This first In-class-exercise cover a variety of fundamental concepts in Python and are designed to help individuals improve their coding skills and problem-solving abilities.**\n",
        "\n",
        "The submission is due on 01/31/2024 11:59 PM. This submission is worth 40 points in total.\n"
      ]
    },
    {
      "cell_type": "markdown",
      "source": [
        "(1) Write a Python program that  prompts the user to input the length and width of a rectangle, and then calculates and displays the area of the rectangle."
      ],
      "metadata": {
        "id": "FBKvD6O_TY6e"
      }
    },
    {
      "cell_type": "code",
      "source": [
        "\n",
        "length = float(input(\"Enter the length of the rectangle: \"))\n",
        "width = float(input(\"Enter the width of the rectangle: \"))\n",
        "\n",
        "area = length * width\n",
        "\n",
        "print(f\"The area of the rectangle with length {length} and width {width} is: {area}\")\n"
      ],
      "metadata": {
        "id": "cikVKDXdTbzE"
      },
      "execution_count": null,
      "outputs": []
    },
    {
      "cell_type": "markdown",
      "source": [
        "(2) Create a Python program that interactively takes two numerical inputs from the user and swaps their values without utilizing an extra variable."
      ],
      "metadata": {
        "id": "E9RqrlwdTfvl"
      }
    },
    {
      "cell_type": "code",
      "source": [
        "num1 = float(input(\"Enter the first number: \"))\n",
        "num2 = float(input(\"Enter the second number: \"))\n",
        "\n",
        "print(f\"Original values: num1 = {num1}, num2 = {num2}\")\n",
        "\n",
        "num1, num2 = num2, num1\n",
        "\n",
        "print(f\"After swapping: num1 = {num1}, num2 = {num2}\")\n"
      ],
      "metadata": {
        "id": "4XvRknixTh1g",
        "colab": {
          "base_uri": "https://localhost:8080/"
        },
        "outputId": "267243c6-8755-4510-ee95-5acf48bbb63e"
      },
      "execution_count": null,
      "outputs": [
        {
          "output_type": "stream",
          "name": "stdout",
          "text": [
            "Enter the first number: 6\n",
            "Enter the second number: 1\n",
            "Original values: num1 = 6.0, num2 = 1.0\n",
            "After swapping: num1 = 1.0, num2 = 6.0\n"
          ]
        }
      ]
    },
    {
      "cell_type": "markdown",
      "metadata": {
        "id": "03jb4GZsBkBS"
      },
      "source": [
        "(3) Write a Python script to determine and print the length of a user-input string."
      ]
    },
    {
      "cell_type": "code",
      "execution_count": null,
      "metadata": {
        "id": "YaGLbSHHB8Ej",
        "colab": {
          "base_uri": "https://localhost:8080/"
        },
        "outputId": "fbb6a681-0562-481c-9e94-d8333ba14d01"
      },
      "outputs": [
        {
          "output_type": "stream",
          "name": "stdout",
          "text": [
            "Enter a string: 6.9\n",
            "The length of the input string is: 3\n"
          ]
        }
      ],
      "source": [
        "\n",
        "user_input = input(\"Enter a string: \")\n",
        "\n",
        "\n",
        "length = len(user_input)\n",
        "print(f\"The length of the input string is: {length}\")\n"
      ]
    },
    {
      "cell_type": "markdown",
      "metadata": {
        "id": "jJDe71iLB616"
      },
      "source": [
        "(4) Construct a Python program that counts and displays the occurrences of each character in a given string.\n",
        "\n",
        "Sample String: 'openai.ai',\n",
        "\n",
        "Expected Result: {'a': 2, 'i': 2, '.': 1, 'o': 1, 'p': 1, 'e': 1, 'n': 1}"
      ]
    },
    {
      "cell_type": "code",
      "execution_count": null,
      "metadata": {
        "id": "MtKskTzbCLaU",
        "colab": {
          "base_uri": "https://localhost:8080/"
        },
        "outputId": "4b95d047-5409-4f9c-dee4-b19d4ce0fcb9"
      },
      "outputs": [
        {
          "output_type": "stream",
          "name": "stdout",
          "text": [
            "Occurrences of each character:\n",
            "{'o': 1, 'p': 1, 'e': 1, 'n': 1, 'a': 2, 'i': 2, '.': 1}\n"
          ]
        }
      ],
      "source": [
        "sample_string = 'openai.ai'\n",
        "\n",
        "char_occurrences = {}\n",
        "\n",
        "for char in sample_string:\n",
        "\n",
        "    char_occurrences[char] = char_occurrences.get(char, 0) + 1\n",
        "\n",
        "print(\"Occurrences of each character:\")\n",
        "print(char_occurrences)\n"
      ]
    },
    {
      "cell_type": "markdown",
      "metadata": {
        "id": "55W9AMdXCSpV"
      },
      "source": [
        "(5) Design a Python code to calculate the sum of all elements in a user-provided list."
      ]
    },
    {
      "cell_type": "code",
      "execution_count": null,
      "metadata": {
        "id": "I57NXsauCec2",
        "colab": {
          "base_uri": "https://localhost:8080/"
        },
        "outputId": "bb6bafa5-9eb8-40e0-d7de-9b01ca1bcfee"
      },
      "outputs": [
        {
          "output_type": "stream",
          "name": "stdout",
          "text": [
            "Enter a list of numbers separated by spaces: 2 4 5 6 8\n",
            "The sum of all elements in the list is: 25.0\n"
          ]
        }
      ],
      "source": [
        "user_input = input(\"Enter a list of numbers separated by spaces: \")\n",
        "number_list = [float(num) for num in user_input.split()]\n",
        "sum_of_elements = sum(number_list)\n",
        "print(f\"The sum of all elements in the list is: {sum_of_elements}\")\n",
        "\n"
      ]
    },
    {
      "cell_type": "markdown",
      "metadata": {
        "id": "4ulBZ6yhCi9F"
      },
      "source": [
        "(6) Write a Python program that modifies a given string by replacing all occurrences of its first character with '$', excluding the first character itself.\n",
        "\n",
        "\n",
        "Sample String : 'restart‘,\n",
        "\n",
        "Expected Result : 'resta\\$t'"
      ]
    },
    {
      "cell_type": "code",
      "execution_count": null,
      "metadata": {
        "id": "Fj0XhwbBCw2o",
        "colab": {
          "base_uri": "https://localhost:8080/"
        },
        "outputId": "d4441a6c-24f8-4959-9796-51f3c6057dfc"
      },
      "outputs": [
        {
          "output_type": "stream",
          "name": "stdout",
          "text": [
            "Original String: restart\n",
            "Modified String: resta$t\n"
          ]
        }
      ],
      "source": [
        "sample_string = 'restart'\n",
        "modified_string = sample_string[0] + sample_string[1:].replace(sample_string[0], '$')\n",
        "print(f\"Original String: {sample_string}\")\n",
        "print(f\"Modified String: {modified_string}\")\n",
        "\n"
      ]
    },
    {
      "cell_type": "markdown",
      "source": [
        "(7) Write a Python program using a while loop to compute the factorial of a user-supplied number."
      ],
      "metadata": {
        "id": "qVXA3q7ET5JI"
      }
    },
    {
      "cell_type": "code",
      "source": [
        "user_input = int(input(\"Enter a number to compute its factorial: \"))\n",
        "factorial = 1\n",
        "i = 1\n",
        "\n",
        "while i <= user_input:\n",
        "    factorial *= i\n",
        "    i += 1\n",
        "\n",
        "print(f\"The factorial of {user_input} is: {factorial}\")\n"
      ],
      "metadata": {
        "id": "Lbt7R6UkT7BA",
        "colab": {
          "base_uri": "https://localhost:8080/"
        },
        "outputId": "e434fab4-be3b-42d1-c819-a0e72710f07c"
      },
      "execution_count": null,
      "outputs": [
        {
          "output_type": "stream",
          "name": "stdout",
          "text": [
            "Enter a number to compute its factorial: 5\n",
            "The factorial of 5 is: 120\n"
          ]
        }
      ]
    },
    {
      "cell_type": "markdown",
      "source": [
        "(8) Create a program that accepts a list of numbers as input and outputs a new list containing only the even numbers."
      ],
      "metadata": {
        "id": "6YfbzXMNT--R"
      }
    },
    {
      "cell_type": "code",
      "source": [
        "\n",
        "user_input = input(\"Enter a list of numbers separated by spaces: \")\n",
        "\n",
        "number_list = [int(num) for num in user_input.split()]\n",
        "\n",
        "even_numbers = [num for num in number_list if num % 2 == 0]\n",
        "\n",
        "print(f\"The list of even numbers is: {even_numbers}\")\n"
      ],
      "metadata": {
        "id": "54q7wMQPUAKu",
        "colab": {
          "base_uri": "https://localhost:8080/"
        },
        "outputId": "4dcf9b47-de45-4f76-ccac-873cbfb8a27b"
      },
      "execution_count": null,
      "outputs": [
        {
          "output_type": "stream",
          "name": "stdout",
          "text": [
            "Enter a list of numbers separated by spaces: 2 5 6 7 \n",
            "The list of even numbers is: [2, 6]\n"
          ]
        }
      ]
    },
    {
      "cell_type": "markdown",
      "metadata": {
        "id": "_bIP7s1MCzue"
      },
      "source": [
        "\n",
        "(9) Design a Python function to check if a number is prime.\n"
      ]
    },
    {
      "cell_type": "code",
      "execution_count": null,
      "metadata": {
        "id": "w79QilHXD3Mg",
        "colab": {
          "base_uri": "https://localhost:8080/"
        },
        "outputId": "be23d179-56f2-4123-dffc-6aba40723fe1"
      },
      "outputs": [
        {
          "output_type": "stream",
          "name": "stdout",
          "text": [
            "Enter a number to check if it's prime: 6\n",
            "6 is not a prime number.\n"
          ]
        }
      ],
      "source": [
        "def is_prime(number):\n",
        "    if number <= 1:\n",
        "        return False\n",
        "    for i in range(2, int(number**0.5) + 1):\n",
        "        if number % i == 0:\n",
        "            return False\n",
        "    return True\n",
        "\n",
        "user_input = int(input(\"Enter a number to check if it's prime: \"))\n",
        "\n",
        "if is_prime(user_input):\n",
        "    print(f\"{user_input} is a prime number.\")\n",
        "else:\n",
        "    print(f\"{user_input} is not a prime number.\")\n",
        "\n"
      ]
    },
    {
      "cell_type": "markdown",
      "metadata": {
        "id": "xCa2bK9aD4Q3"
      },
      "source": [
        "**bold text**(10) Write a Python program to concatenate following dictionaries to create a new one.\n",
        "\n",
        "Sample Dictionary : dic1={1:10, 2:20}, dic2={3:30, 4:40}, dic3={5:50,6:60},\n",
        "\n",
        "Expected Result : {1: 10, 2: 20, 3: 30, 4: 40, 5: 50, 6: 60}\n"
      ]
    },
    {
      "cell_type": "code",
      "execution_count": null,
      "metadata": {
        "id": "_z4aLqAbEET1",
        "colab": {
          "base_uri": "https://localhost:8080/"
        },
        "outputId": "42cba8ee-a7af-4b11-d435-d8aba956ac7b"
      },
      "outputs": [
        {
          "output_type": "stream",
          "name": "stdout",
          "text": [
            "Expected Result: {1: 10, 2: 20, 3: 30, 4: 40, 5: 50, 6: 60}\n"
          ]
        }
      ],
      "source": [
        "dic1 = {1: 10, 2: 20}\n",
        "dic2 = {3: 30, 4: 40}\n",
        "dic3 = {5: 50, 6: 60}\n",
        "\n",
        "result_dict = {**dic1, **dic2, **dic3}\n",
        "\n",
        "print(\"Expected Result:\", result_dict)"
      ]
    },
    {
      "cell_type": "markdown",
      "source": [
        "(11) Design a Python function that takes a tuple of integers as input and returns the largest and smallest elements."
      ],
      "metadata": {
        "id": "bkyZ2xSZUOst"
      }
    },
    {
      "cell_type": "code",
      "source": [
        "def find_largest_smallest(numbers):\n",
        "    if not numbers:\n",
        "        return None, None\n",
        "    largest = smallest = numbers[0]\n",
        "    for num in numbers:\n",
        "        if num > largest:\n",
        "            largest = num\n",
        "        elif num < smallest:\n",
        "            smallest = num\n",
        "    return largest, smallest\n",
        "\n",
        "input_tuple = (5, 12, 8, 3, 15, 7)\n",
        "largest, smallest = find_largest_smallest(input_tuple)\n",
        "print(f\"Largest element: {largest}\")\n",
        "print(f\"Smallest element: {smallest}\")\n"
      ],
      "metadata": {
        "id": "3FdLRBKOUQEd",
        "colab": {
          "base_uri": "https://localhost:8080/"
        },
        "outputId": "b0101abb-03af-418c-e52c-1550141369bb"
      },
      "execution_count": null,
      "outputs": [
        {
          "output_type": "stream",
          "name": "stdout",
          "text": [
            "Largest element: 15\n",
            "Smallest element: 3\n"
          ]
        }
      ]
    },
    {
      "cell_type": "markdown",
      "source": [
        "(12) Write a Python program that counts the frequency of each character in a given string and stores it in a dictionary."
      ],
      "metadata": {
        "id": "O0TVi3gKUTpp"
      }
    },
    {
      "cell_type": "code",
      "source": [
        "sample_string = 'hello world'\n",
        "\n",
        "char_frequency = {}\n",
        "\n",
        "for char in sample_string:\n",
        "\n",
        "    char_frequency[char] = char_frequency.get(char, 0) + 1\n",
        "\n",
        "print(\"Character frequencies:\")\n",
        "print(char_frequency)\n"
      ],
      "metadata": {
        "id": "lAtfSfZXUU-h",
        "colab": {
          "base_uri": "https://localhost:8080/"
        },
        "outputId": "dc8c1f65-d8f1-41ab-f604-664318f2dcb8"
      },
      "execution_count": null,
      "outputs": [
        {
          "output_type": "stream",
          "name": "stdout",
          "text": [
            "Character frequencies:\n",
            "{'h': 1, 'e': 1, 'l': 3, 'o': 2, ' ': 1, 'w': 1, 'r': 1, 'd': 1}\n"
          ]
        }
      ]
    },
    {
      "cell_type": "markdown",
      "metadata": {
        "id": "0v48Vqa7FrQh"
      },
      "source": [
        "(13) Implement a Python script to identify duplicate elements in a provided array of integers. Return -1 if there are no duplicates."
      ]
    },
    {
      "cell_type": "code",
      "execution_count": null,
      "metadata": {
        "id": "7WEmgq-DF2P1",
        "colab": {
          "base_uri": "https://localhost:8080/"
        },
        "outputId": "a3de4981-e05b-486a-b03e-fbd62f37a5cc"
      },
      "outputs": [
        {
          "output_type": "stream",
          "name": "stdout",
          "text": [
            "Duplicate elements: [2, 3]\n"
          ]
        }
      ],
      "source": [
        "def find_duplicates(arr):\n",
        "    seen = set()\n",
        "    duplicates = set()\n",
        "\n",
        "    for num in arr:\n",
        "        if num in seen:\n",
        "            duplicates.add(num)\n",
        "        else:\n",
        "            seen.add(num)\n",
        "\n",
        "    if not duplicates:\n",
        "        return -1\n",
        "    else:\n",
        "        return list(duplicates)\n",
        "\n",
        "input_array = [1, 2, 3, 4, 2, 5, 6, 7, 8, 3]\n",
        "result = find_duplicates(input_array)\n",
        "\n",
        "if result == -1:\n",
        "    print(\"No duplicates found.\")\n",
        "else:\n",
        "    print(\"Duplicate elements:\", result)\n"
      ]
    },
    {
      "cell_type": "markdown",
      "metadata": {
        "id": "vD5PYLMuGga_"
      },
      "source": [
        "(14) Write a Python script to find the common elements between two lists."
      ]
    },
    {
      "cell_type": "code",
      "execution_count": null,
      "metadata": {
        "id": "t0D5kdJUGjjw",
        "colab": {
          "base_uri": "https://localhost:8080/"
        },
        "outputId": "8bc70765-e0ce-41ac-9c70-ef052ef19219"
      },
      "outputs": [
        {
          "output_type": "stream",
          "name": "stdout",
          "text": [
            "Common elements: [3, 4, 5]\n"
          ]
        }
      ],
      "source": [
        "def find_common_elements(list1, list2):\n",
        "    set1 = set(list1)\n",
        "    set2 = set(list2)\n",
        "    common_elements = set1.intersection(set2)\n",
        "    return list(common_elements)\n",
        "\n",
        "list1 = [1, 2, 3, 4, 5]\n",
        "list2 = [3, 4, 5, 6, 7]\n",
        "\n",
        "common_elements = find_common_elements(list1, list2)\n",
        "\n",
        "if not common_elements:\n",
        "    print(\"No common elements found.\")\n",
        "else:\n",
        "    print(\"Common elements:\", common_elements)\n"
      ]
    },
    {
      "cell_type": "markdown",
      "metadata": {
        "id": "uHkd-y5VhVWC"
      },
      "source": [
        "(15) Write a Python program to randomly divide the students in this class into six groups for term projects, each group should have at least 4 students but no more than 6 students (including 6).\n",
        "\n",
        "Here is the students list:\n",
        "\n",
        "student_list_spring_2024=[rb0846,\n",
        "ac1964,\n",
        "hc0612,\n",
        "md0912,\n",
        "ad1198,\n",
        "md0894,\n",
        "md0825,\n",
        "vg0598,\n",
        "vg0433,\n",
        "mh1068,\n",
        "yj0173,\n",
        "pk0553,\n",
        "tk0411,\n",
        "srk0204,\n",
        "sk2922,\n",
        "sk2936,\n",
        "mk1302,\n",
        "mk1317,\n",
        "tk0412,\n",
        "vk0656,\n",
        "sm2985,\n",
        "mm2372,\n",
        "un0045,\n",
        "an0892,\n",
        "sn0913,\n",
        "gp0252,\n",
        "ap1484,\n",
        "mr1765,\n",
        "sr1385,\n",
        "sr1335,\n",
        "hs0665,\n",
        "ms2060,\n",
        "gt0217,\n",
        "nt0385,\n",
        "tv0186,\n",
        "sv1394,\n",
        "sv1752,\n",
        "sv1555,\n",
        "sy0594\n",
        "]\n"
      ]
    },
    {
      "cell_type": "code",
      "execution_count": null,
      "metadata": {
        "id": "3iGbmcOBhTwy",
        "colab": {
          "base_uri": "https://localhost:8080/"
        },
        "outputId": "0c1c51b1-2e82-43fb-ecc8-2a9dece05ab6"
      },
      "outputs": [
        {
          "output_type": "stream",
          "name": "stdout",
          "text": [
            "Group 1: ['pk0553', 'ac1964', 'mr1765', 'tk0412']\n",
            "Group 2: ['vk0656', 'md0825', 'sr1385', 'ad1198']\n",
            "Group 3: ['sk2922', 'ms2060', 'hc0612', 'nt0385', 'sv1555']\n",
            "Group 4: ['ap1484', 'srk0204', 'un0045', 'sn0913']\n",
            "Group 5: ['rb0846', 'sm2985', 'gp0252', 'mk1317', 'vg0433', 'gt0217']\n",
            "Group 6: ['tk0411', 'mk1302', 'yj0173', 'sv1752', 'md0912']\n",
            "Group 7: ['hs0665', 'mh1068', 'md0894', 'sy0594', 'tv0186', 'an0892']\n",
            "Group 8: ['sr1335', 'mm2372', 'vg0598', 'sk2936', 'sv1394']\n"
          ]
        }
      ],
      "source": [
        "import random\n",
        "\n",
        "# List of students\n",
        "student_list_spring_2024 = ['rb0846', 'ac1964', 'hc0612', 'md0912', 'ad1198', 'md0894', 'md0825', 'vg0598', 'vg0433',\n",
        "                             'mh1068', 'yj0173', 'pk0553', 'tk0411', 'srk0204', 'sk2922', 'sk2936', 'mk1302', 'mk1317',\n",
        "                             'tk0412', 'vk0656', 'sm2985', 'mm2372', 'un0045', 'an0892', 'sn0913', 'gp0252', 'ap1484',\n",
        "                             'mr1765', 'sr1385', 'sr1335', 'hs0665', 'ms2060', 'gt0217', 'nt0385', 'tv0186', 'sv1394',\n",
        "                             'sv1752', 'sv1555', 'sy0594']\n",
        "\n",
        "random.shuffle(student_list_spring_2024)\n",
        "\n",
        "groups = []\n",
        "group_size = random.randint(4, 6)\n",
        "\n",
        "while student_list_spring_2024:\n",
        "    current_group = student_list_spring_2024[:group_size]\n",
        "    groups.append(current_group)\n",
        "    student_list_spring_2024 = student_list_spring_2024[group_size:]\n",
        "    group_size = random.randint(4, 6)\n",
        "\n",
        "for i, group in enumerate(groups, start=1):\n",
        "    print(f\"Group {i}: {group}\")\n",
        "\n"
      ]
    },
    {
      "cell_type": "markdown",
      "metadata": {
        "id": "fmZ9vX20Qs3d"
      },
      "source": [
        "*(16) Create a program that takes a positive integer 'n' as input and prints the count of even numbers from 1 to 'n'. Optimize the loop using the break statement."
      ]
    },
    {
      "cell_type": "code",
      "execution_count": null,
      "metadata": {
        "id": "W8Jw6sWMQs3d",
        "colab": {
          "base_uri": "https://localhost:8080/"
        },
        "outputId": "70908107-9edc-4e3d-f5ee-3b08e4be05dd"
      },
      "outputs": [
        {
          "output_type": "stream",
          "name": "stdout",
          "text": [
            "Enter a positive integer 'n': 4\n",
            "The count of even numbers from 1 to 4 is: 2\n"
          ]
        }
      ],
      "source": [
        "def count_even_numbers(n):\n",
        "    count = 0\n",
        "    for i in range(1, n + 1):\n",
        "        if i % 2 == 0:\n",
        "            count += 1\n",
        "        elif i > n:\n",
        "            break\n",
        "    return count\n",
        "\n",
        "user_input = int(input(\"Enter a positive integer 'n': \"))\n",
        "\n",
        "if user_input > 0:\n",
        "    result = count_even_numbers(user_input)\n",
        "    print(f\"The count of even numbers from 1 to {user_input} is: {result}\")\n",
        "else:\n",
        "    print(\"Please enter a positive integer.\")\n"
      ]
    },
    {
      "cell_type": "markdown",
      "metadata": {
        "id": "hvq4APMhQs3d"
      },
      "source": [
        "(17) Develop a Python function called 'count_vowels' that takes a string as input and returns the count of vowels (both lowercase and uppercase) present in the string, ignoring spaces and non-alphabetic characters."
      ]
    },
    {
      "cell_type": "code",
      "execution_count": null,
      "metadata": {
        "id": "ZnoxhSglQs3d",
        "colab": {
          "base_uri": "https://localhost:8080/"
        },
        "outputId": "e76ee45e-4b17-45db-bb8b-a7a5b89aa621"
      },
      "outputs": [
        {
          "output_type": "stream",
          "name": "stdout",
          "text": [
            "Enter a string: 4,6,7,8\n",
            "The count of vowels in the string is: 0\n"
          ]
        }
      ],
      "source": [
        "def count_vowels(input_string):\n",
        "    vowels = \"aeiouAEIOU\"\n",
        "    count = 0\n",
        "\n",
        "    for char in input_string:\n",
        "        if char.isalpha() and char.lower() in vowels:\n",
        "            count += 1\n",
        "\n",
        "    return count\n",
        "\n",
        "user_input = input(\"Enter a string: \")\n",
        "result = count_vowels(user_input)\n",
        "print(f\"The count of vowels in the string is: {result}\")\n"
      ]
    },
    {
      "cell_type": "markdown",
      "source": [
        "(18) Create a custom exception named ValueTooSmallError in Python. Write a program that takes user input for an age, and if the entered age is less than 18, raise the ValueTooSmallError with an appropriate error message."
      ],
      "metadata": {
        "id": "55FWoSJPVVM6"
      }
    },
    {
      "cell_type": "code",
      "source": [
        "class ValueTooSmallError(Exception):\n",
        "    def __init__(self, message=\"Age is too small. Must be 18 or older.\"):\n",
        "        self.message = message\n",
        "        super().__init__(self.message)\n",
        "\n",
        "def check_age(age):\n",
        "    if age < 18:\n",
        "        raise ValueTooSmallError()\n",
        "\n",
        "# Example usage:\n",
        "try:\n",
        "    user_age = int(input(\"Enter your age: \"))\n",
        "    check_age(user_age)\n",
        "    print(\"Age is valid.\")\n",
        "except ValueError:\n",
        "    print(\"Invalid input. Please enter a valid age.\")\n",
        "except ValueTooSmallError as e:\n",
        "    print(f\"Error: {e}\")\n"
      ],
      "metadata": {
        "id": "hwtr1wZmVX5A",
        "colab": {
          "base_uri": "https://localhost:8080/"
        },
        "outputId": "58c202b2-0c15-4036-b4dd-d6d542bc099b"
      },
      "execution_count": null,
      "outputs": [
        {
          "output_type": "stream",
          "name": "stdout",
          "text": [
            "Enter your age: 45\n",
            "Age is valid.\n"
          ]
        }
      ]
    },
    {
      "cell_type": "markdown",
      "source": [],
      "metadata": {
        "id": "bCWZQd11qDOG"
      }
    },
    {
      "cell_type": "markdown",
      "source": [
        "(19) Develop a script that reverses a given string without using built-in reverse functions."
      ],
      "metadata": {
        "id": "Q9ecagcaVazW"
      }
    },
    {
      "cell_type": "code",
      "source": [
        "def reverse_string(input_string):\n",
        "    reversed_string = \"\"\n",
        "    for char in input_string:\n",
        "        reversed_string = char + reversed_string\n",
        "    return reversed_string\n",
        "\n",
        "user_input = input(\"Enter a string: \")\n",
        "result = reverse_string(user_input)\n",
        "print(f\"Reversed string: {result}\")\n"
      ],
      "metadata": {
        "id": "gycgckoAVZjR",
        "colab": {
          "base_uri": "https://localhost:8080/"
        },
        "outputId": "05949f89-be8e-4eca-d348-fd8e5abd0942"
      },
      "execution_count": null,
      "outputs": [
        {
          "output_type": "stream",
          "name": "stdout",
          "text": [
            "Enter a string: 5 6 7\n",
            "Reversed string: 7 6 5\n"
          ]
        }
      ]
    },
    {
      "cell_type": "markdown",
      "source": [
        "(20) Implement a Python script to generate a random password of a specified length."
      ],
      "metadata": {
        "id": "ZFG6RibifMLu"
      }
    },
    {
      "cell_type": "code",
      "source": [
        "import random\n",
        "import string\n",
        "\n",
        "def generate_random_password(length):\n",
        "    characters = string.ascii_letters + string.digits + string.punctuation\n",
        "    password = ''.join(random.choice(characters) for _ in range(length))\n",
        "    return password\n",
        "password_length = int(input(\"Enter the desired password length: \"))\n",
        "generated_password = generate_random_password(password_length)\n",
        "print(f\"Generated Password: {generated_password}\")\n"
      ],
      "metadata": {
        "id": "BFVrkEi9fNiD",
        "colab": {
          "base_uri": "https://localhost:8080/"
        },
        "outputId": "c6882772-067a-4032-c6c6-6be69e2c90e0"
      },
      "execution_count": null,
      "outputs": [
        {
          "output_type": "stream",
          "name": "stdout",
          "text": [
            "Enter the desired password length: 78\n",
            "Generated Password: 4:^t.FSU?lwV-%MSba~G/$xN\\H[.[t>qd,|,_OK%)0PU2T<nQ[QNh-D\\1C|r_6wh(r4@wc3'QhiE.4\n"
          ]
        }
      ]
    },
    {
      "cell_type": "markdown",
      "source": [
        "# Try these questions:"
      ],
      "metadata": {
        "id": "6SmvS7nSfbj8"
      }
    },
    {
      "cell_type": "markdown",
      "source": [
        "(21) Define a base class called 'Vehicle' with attributes make and model. Create a derived class Car that inherits from Vehicle and has an additional attribute 'num_doors'. Demonstrate an example of creating an instance of the 'Car' class and accessing its attributes."
      ],
      "metadata": {
        "id": "cboAr5pEWUf5"
      }
    },
    {
      "cell_type": "code",
      "source": [
        "class Vehicle:\n",
        "    def __init__(self, make, model):\n",
        "        self.make = make\n",
        "        self.model = model\n",
        "\n",
        "class Car(Vehicle):\n",
        "    def __init__(self, make, model, num_doors):\n",
        "        super().__init__(make, model)\n",
        "        self.num_doors = num_doors\n",
        "\n",
        "car_instance = Car(make=\"Toyota\", model=\"Camry\", num_doors=4)\n",
        "\n",
        "print(f\"Make: {car_instance.make}\")\n",
        "print(f\"Model: {car_instance.model}\")\n",
        "print(f\"Number of Doors: {car_instance.num_doors}\")\n"
      ],
      "metadata": {
        "id": "phs9gciMWWAW",
        "colab": {
          "base_uri": "https://localhost:8080/"
        },
        "outputId": "37f3972f-d3fd-4ed8-c3ca-5c1fa87cba04"
      },
      "execution_count": null,
      "outputs": [
        {
          "output_type": "stream",
          "name": "stdout",
          "text": [
            "Make: Toyota\n",
            "Model: Camry\n",
            "Number of Doors: 4\n"
          ]
        }
      ]
    },
    {
      "cell_type": "markdown",
      "source": [
        "(22) Create a class called 'Shape' with a method calculate_area(). Implement two derived classes 'Circle' and 'Rectangle' that inherit from Shape and override the calculate_area() method. Demonstrate polymorphism by creating instances of both derived classes and calling the calculate_area() method."
      ],
      "metadata": {
        "id": "J8HHefNtePwd"
      }
    },
    {
      "cell_type": "code",
      "source": [
        "class Shape:\n",
        "    def calculate_area(self):\n",
        "        pass\n",
        "\n",
        "class Circle(Shape):\n",
        "    def __init__(self, radius):\n",
        "        self.radius = radius\n",
        "\n",
        "    def calculate_area(self):\n",
        "        return 3.14 * self.radius**2\n",
        "\n",
        "class Rectangle(Shape):\n",
        "    def __init__(self, length, width):\n",
        "        self.length = length\n",
        "        self.width = width\n",
        "\n",
        "    def calculate_area(self):\n",
        "        return self.length * self.width\n",
        "\n",
        "\n",
        "circle_instance = Circle(radius=5)\n",
        "rectangle_instance = Rectangle(length=4, width=6)\n",
        "\n",
        "print(f\"Circle Area: {circle_instance.calculate_area()}\")\n",
        "print(f\"Rectangle Area: {rectangle_instance.calculate_area()}\")\n"
      ],
      "metadata": {
        "id": "btnMmUZDeRhS",
        "colab": {
          "base_uri": "https://localhost:8080/"
        },
        "outputId": "62e1241b-0bea-477a-ce28-f65a369d3f79"
      },
      "execution_count": null,
      "outputs": [
        {
          "output_type": "stream",
          "name": "stdout",
          "text": [
            "Circle Area: 78.5\n",
            "Rectangle Area: 24\n"
          ]
        }
      ]
    },
    {
      "cell_type": "markdown",
      "source": [
        "(23) Write a Python program that prompts the user to enter two numbers and perform a division operation. Handle exceptions for both zero division and invalid input (non-numeric input). Display appropriate error messages for each type of exception and ensure the program does not crash due to these errors."
      ],
      "metadata": {
        "id": "z0oqEAlTeMUS"
      }
    },
    {
      "cell_type": "code",
      "source": [
        "def divide_numbers():\n",
        "    try:\n",
        "        num1 = float(input(\"Enter the first number: \"))\n",
        "        num2 = float(input(\"Enter the second number: \"))\n",
        "\n",
        "        result = num1 / num2\n",
        "        print(f\"Result of division: {result}\")\n",
        "\n",
        "    except ValueError:\n",
        "        print(\"Error: Please enter valid numeric values.\")\n",
        "    except ZeroDivisionError:\n",
        "        print(\"Error: Division by zero is not allowed.\")\n",
        "    except Exception as e:\n",
        "        print(f\"An unexpected error occurred: {e}\")\n",
        "\n",
        "divide_numbers()\n"
      ],
      "metadata": {
        "id": "yjdc1zM1eMAs",
        "colab": {
          "base_uri": "https://localhost:8080/"
        },
        "outputId": "c3237ddf-55fe-4ae2-8adb-7c4e32bebb00"
      },
      "execution_count": null,
      "outputs": [
        {
          "output_type": "stream",
          "name": "stdout",
          "text": [
            "Enter the first number: 4\n",
            "Enter the second number: 9\n",
            "Result of division: 0.4444444444444444\n"
          ]
        }
      ]
    },
    {
      "cell_type": "markdown",
      "source": [
        "# Mandatory Question"
      ],
      "metadata": {
        "id": "sZOhks1dXWEe"
      }
    },
    {
      "cell_type": "markdown",
      "source": [
        "**Important:**\n",
        "Reflecting on the first three lectures and the exercises you've completed, please provide feedback on your learning experience. Share your thoughts on whether the material covered was clear, the exercises were helpful, and if you feel more confident in applying Python programming concepts. Additionally, mention any specific areas where you would like more clarification or topics you would like to explore further in future lectures. Your feedback is valuable in shaping the course for an effective learning journey."
      ],
      "metadata": {
        "id": "eqmHVEwaWhbV"
      }
    },
    {
      "cell_type": "markdown",
      "source": [
        "Write your response here."
      ],
      "metadata": {
        "id": "HlpXOT9wXQAd"
      }
    },
    {
      "cell_type": "markdown",
      "source": [
        "The content covered in the first three lectures was extensive and covered a broad spectrum of topics. The introduction to Natural Language Processing (NLP) and its various components, such as tokenization, normalization, stemming, lemmatization, and more, was enlightening. The inclusion of real-world applications like sentiment analysis, topic modeling, and machine translation made the content practical and relevant. Furthermore, the Python basics covered in the second and third lectures provided a solid foundation for understanding the programming concepts necessary for NLP.\n",
        "\n",
        "**Clarity of Material:**\n",
        "The material was presented in a clear and organized manner. The breakdown of each NLP concept and Python fundamental was easy to follow, and the examples provided clarity on how these concepts are applied. The step-by-step explanation and demonstration in the lectures were especially helpful in grasping complex topics like syntactic and semantic analysis.\n",
        "\n",
        "**Exercises Feedback:**\n",
        "The exercises were valuable in reinforcing the theoretical knowledge gained during the lectures. The hands-on exercises, especially those related to Python programming, allowed for practical application and a deeper understanding of the concepts. It would be beneficial to have more exercises that gradually increase in complexity to challenge learners and solidify their skills."
      ],
      "metadata": {
        "id": "aozTXLbl6I7b"
      }
    }
  ],
  "metadata": {
    "colab": {
      "provenance": [],
      "include_colab_link": true
    },
    "kernelspec": {
      "display_name": "Python 3 (ipykernel)",
      "language": "python",
      "name": "python3"
    },
    "language_info": {
      "codemirror_mode": {
        "name": "ipython",
        "version": 3
      },
      "file_extension": ".py",
      "mimetype": "text/x-python",
      "name": "python",
      "nbconvert_exporter": "python",
      "pygments_lexer": "ipython3",
      "version": "3.9.12"
    }
  },
  "nbformat": 4,
  "nbformat_minor": 0
}